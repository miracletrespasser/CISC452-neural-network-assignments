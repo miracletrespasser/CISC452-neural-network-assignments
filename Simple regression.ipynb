{
 "cells": [
  {
   "cell_type": "markdown",
   "metadata": {
    "id": "cf798513"
   },
   "source": [
    "# CISC/CMPE 452/COGS 400 Assignment 1 - Perceptron (100 points)  \n",
    "\n",
    "Please put your name and student id\n",
    "\n",
    "    FirstName LastName, #12345678\n",
    "\n",
    "- The notebook file has clearly marked blocks where you are expected to write code. Do not write or modify any code outside of these blocks.\n",
    "\n",
    "```\n",
    "e.g.\n",
    "####################################################################################################\n",
    "    # enter code here to calculate the output  \n",
    "\n",
    "####################################################################################################\n",
    "```\n",
    "\n",
    "- Do not add or delete cells from the notebook.\n",
    "- Run all cells, and do not clear out the outputs, before submitting. You will only get credit for code that has been run.\n",
    "- Make sure to run all the cells from beginning before the submission"
   ]
  },
  {
   "cell_type": "markdown",
   "metadata": {
    "id": "VRLNrFDU3dKp"
   },
   "source": [
    "## [Part 1 Simple Feedback Learning (50 points)](#Part-1-Simple-Feedback-Learning)  \n",
    "\n",
    "**Simple Feedback Learning** uses the correct/incorrect feedback and info about (y>d) or (y<d) to change weights.  \n",
    "- Refer to **Perceptron slides**  \n",
    "\n",
    "### Build Model (40 points)  \n",
    "1. Calculate the output (10 points)  \n",
    "2. Implement weight adjustment (20 points)  \n",
    "3. Predict function (5 points)  \n",
    "4. Activation function (5 points)  \n",
    "\n",
    "### Evaluate Model (10 points)  \n",
    "Use the predict function to predict the labels with the test dataset (5 points)  \n",
    "Evaluate the prediction results (5 points)  \n",
    "- Evaluation matrics include confusion matrix, accuracy, recall, precision and F1 score\n",
    "\n",
    "## [Part 2 Error Correction Learning (50 points)](#Part-2-Error-Correction-Learning)  \n",
    "\n",
    "**Error Correction Learning** uses an error measure to adapt the weight vector.  \n",
    "- Refer to **Adaline slides**  \n",
    "\n",
    "### Build Model (40 points)  \n",
    "1. Calculate the output (10 points)  \n",
    "2. Implement weight adjustment (20 points)  \n",
    "3. Predict function (5 points)  \n",
    "4. Activation function (5 points)  \n",
    "\n",
    "### Evaluate Model (10 points)  \n",
    "Use the predict function to predict the lables with the test dataset (5 points)  \n",
    "Evaluate the prediction results (5 points)  \n",
    "- Evaluation matrics include confusion matrix, accuracy, recall, precision and F1 score"
   ]
  },
  {
   "cell_type": "code",
   "execution_count": 69,
   "metadata": {
    "id": "b7e6a263"
   },
   "outputs": [],
   "source": [
    "#Donghao Wang, 20119632\n",
    "import numpy as np\n",
    "import matplotlib.pyplot as plt\n",
    "from sklearn.model_selection import train_test_split\n",
    "from sklearn.datasets import load_iris"
   ]
  },
  {
   "cell_type": "code",
   "execution_count": 70,
   "metadata": {
    "id": "3a19bd78"
   },
   "outputs": [
    {
     "data": {
      "text/plain": [
       "(['sepal length (cm)',\n",
       "  'sepal width (cm)',\n",
       "  'petal length (cm)',\n",
       "  'petal width (cm)'],\n",
       " array(['setosa', 'versicolor', 'virginica'], dtype='<U10'))"
      ]
     },
     "execution_count": 70,
     "metadata": {},
     "output_type": "execute_result"
    }
   ],
   "source": [
    "data = load_iris()\n",
    "x = data.data\n",
    "x = (x - x.mean(axis=0)) / x.std(axis=0)\n",
    "y = data.target - 1\n",
    "data.feature_names, data.target_names"
   ]
  },
  {
   "cell_type": "code",
   "execution_count": 71,
   "metadata": {
    "id": "34fd2e47",
    "scrolled": true
   },
   "outputs": [
    {
     "data": {
      "image/png": "[encoded data removed]",
      "text/plain": [
       "<Figure size 432x288 with 1 Axes>"
      ]
     },
     "metadata": {
      "needs_background": "light"
     },
     "output_type": "display_data"
    }
   ],
   "source": [
    "# data visualization\n",
    "x_axis, y_axis = 0, 2\n",
    "plt.scatter(x[50:100, x_axis], x[50:100, y_axis], color='r', label=data.target_names[1])\n",
    "plt.scatter(x[100:, x_axis], x[100:, y_axis], color='b', label=data.target_names[2])\n",
    "plt.legend()\n",
    "plt.xlabel(data.feature_names[x_axis])\n",
    "plt.ylabel(data.feature_names[y_axis])\n",
    "plt.show()"
   ]
  },
  {
   "cell_type": "code",
   "execution_count": 72,
   "metadata": {
    "id": "06c93a78"
   },
   "outputs": [
    {
     "data": {
      "text/plain": [
       "((80, 4), (20, 4), (80,), (20,))"
      ]
     },
     "execution_count": 72,
     "metadata": {},
     "output_type": "execute_result"
    }
   ],
   "source": [
    "# split the data into train and test sets\n",
    "x_train, x_test, y_train, y_test = train_test_split(x[50:], y[50:], test_size=0.2, random_state=0)\n",
    "x_train.shape, x_test.shape, y_train.shape, y_test.shape"
   ]
  },
  {
   "cell_type": "code",
   "execution_count": 73,
   "metadata": {
    "id": "3c528d44"
   },
   "outputs": [],
   "source": [
    "def evaluator(y_test, y_pred):\n",
    "    ####################################################################################################\n",
    "    # enter code here to implement the evaluation matrices including confusion matrix, accuracy, precision and recall\n",
    "    # DO NOT use any python packages such as scikit-learn\n",
    "    TP,FP,TN,FN=0,0,0,0\n",
    "    for yt,yp in zip(y_test,y_pred):\n",
    "        if yt==1 and yp ==1:\n",
    "            TP+=1\n",
    "        if yt==1 and yp==0:\n",
    "            FP+=1\n",
    "        if yt==0 and yp==0:\n",
    "            TN+=1\n",
    "        if yt==0 and yp==1:\n",
    "            FN+=1\n",
    "    confusion_matrix=np.array(([TN,FP],[FN,TP]))\n",
    "    accuracy=((TP+TN)/(TP+FP+TN+FN))\n",
    "    precision=(TP/(TP+FP))\n",
    "    recall=(TP/(TP+FN))\n",
    "    print('The confusion matrix is:')\n",
    "    print(confusion_matrix)\n",
    "    print('accuracy:'+str(accuracy))\n",
    "    print('precision:'+str(precision))\n",
    "    print('recall:'+str(recall))\n",
    "    return 0\n",
    "    #return confusion_matrix,accuracy,precision,recall\n",
    "    ####################################################################################################"
   ]
  },
  {
   "cell_type": "markdown",
   "metadata": {
    "id": "4e4a6b06"
   },
   "source": [
    "## Part 1 Simple Feedback Learning"
   ]
  },
  {
   "cell_type": "code",
   "execution_count": 74,
   "metadata": {
    "id": "29d82a53"
   },
   "outputs": [],
   "source": [
    "class SimpleFeedbackLearning(object):\n",
    "    def __init__(self):\n",
    "        self.history = {}\n",
    "        self.history['train_acc'] = []\n",
    "        self.history['test_acc'] = []\n",
    "        \n",
    "    def f(self, x):\n",
    "        ####################################################################################################\n",
    "        # 4. enter code here to implement the activation function\n",
    "        fx=np.dot(self.W,x)+self.b\n",
    "        ####################################################################################################\n",
    "        return fx\n",
    "    \n",
    "    def train(self, x, y, x_test, y_test, learning_rate=0.1, n_iters=10, verbose=True):\n",
    "        n_train, input_size = x.shape\n",
    "        n_test = x_test.shape[0]\n",
    "        # weight initialization\n",
    "        self.W = np.zeros(input_size)\n",
    "        self.b = np.zeros(1)\n",
    "\n",
    "        for i in range(n_iters):\n",
    "            for xi, yi in zip(x, y):\n",
    "                # forward\n",
    "                ####################################################################################################\n",
    "                # 1. enter code here to calculate the output\n",
    "                actual=self.f(xi)\n",
    "                if actual >=0:\n",
    "                    output=1\n",
    "                else:\n",
    "                    output=0\n",
    "                ####################################################################################################\n",
    "                \n",
    "                # backward\n",
    "                ####################################################################################################\n",
    "                # 2. enter code here to adjust the weights\n",
    "                if output>yi:\n",
    "                    self.W-=learning_rate*xi\n",
    "                    self.b-=learning_rate\n",
    "                elif output<yi:\n",
    "                    self.W+=learning_rate*xi\n",
    "                    self.b+=learning_rate\n",
    "                ####################################################################################################\n",
    "            train_acc = (self.predict(x) == y).sum() / n_train\n",
    "            test_acc = (self.predict(x_test) == y_test).sum() / n_test\n",
    "            self.history['train_acc'].append(train_acc)\n",
    "            self.history['test_acc'].append(test_acc)\n",
    "            if verbose:\n",
    "                print('epoch %d, train acc %.4f, test acc %.4f' % (i + 1, train_acc, test_acc))\n",
    "\n",
    "    def predict(self, x):\n",
    "        ####################################################################################################\n",
    "        # 3. enter code here to complete the predict function\n",
    "        # TODO: use the trained weights to predict labels and return the predicted labels\n",
    "        y_pred=np.array([])\n",
    "        for xi in x:\n",
    "            activation=np.dot(self.W,xi)+self.b\n",
    "            if activation>=0:\n",
    "                yi=1\n",
    "            else:\n",
    "                yi=0\n",
    "            y_pred=np.append(y_pred,int(yi))\n",
    "        ####################################################################################################\n",
    "        return y_pred"
   ]
  },
  {
   "cell_type": "code",
   "execution_count": 75,
   "metadata": {
    "id": "3e567f44"
   },
   "outputs": [
    {
     "name": "stdout",
     "output_type": "stream",
     "text": [
      "epoch 1, train acc 0.9750, test acc 0.9000\n",
      "epoch 2, train acc 0.9250, test acc 0.8000\n",
      "epoch 3, train acc 0.8750, test acc 0.7500\n",
      "epoch 4, train acc 0.9750, test acc 0.9500\n",
      "epoch 5, train acc 0.9125, test acc 0.7500\n",
      "epoch 6, train acc 0.9750, test acc 0.9000\n",
      "epoch 7, train acc 0.9625, test acc 0.9000\n",
      "epoch 8, train acc 0.9375, test acc 0.8000\n",
      "epoch 9, train acc 0.9625, test acc 0.9000\n",
      "epoch 10, train acc 0.9750, test acc 0.9000\n"
     ]
    }
   ],
   "source": [
    "model1 = SimpleFeedbackLearning()\n",
    "model1.train(x_train, y_train, x_test, y_test, learning_rate=0.001, n_iters=10, verbose=True)"
   ]
  },
  {
   "cell_type": "code",
   "execution_count": 76,
   "metadata": {
    "id": "b6fde511"
   },
   "outputs": [
    {
     "data": {
      "text/plain": [
       "(array([ 0.00019387, -0.00174029,  0.00497214,  0.00381207]), array([-0.006]))"
      ]
     },
     "execution_count": 76,
     "metadata": {},
     "output_type": "execute_result"
    }
   ],
   "source": [
    "model1.W, model1.b"
   ]
  },
  {
   "cell_type": "code",
   "execution_count": 77,
   "metadata": {
    "id": "3830d2ef"
   },
   "outputs": [
    {
     "data": {
      "image/png": "[encoded data removed]",
      "text/plain": [
       "<Figure size 432x288 with 1 Axes>"
      ]
     },
     "metadata": {
      "needs_background": "light"
     },
     "output_type": "display_data"
    }
   ],
   "source": [
    "plt.plot(model1.history['train_acc'], label='train_acc')\n",
    "plt.plot(model1.history['test_acc'], label='test_acc')\n",
    "plt.legend()\n",
    "plt.show()"
   ]
  },
  {
   "cell_type": "code",
   "execution_count": 78,
   "metadata": {
    "id": "409344f7",
    "scrolled": true
   },
   "outputs": [
    {
     "name": "stdout",
     "output_type": "stream",
     "text": [
      "The confusion matrix is:\n",
      "[[ 8  0]\n",
      " [ 2 10]]\n",
      "accuracy:0.9\n",
      "precision:1.0\n",
      "recall:0.8333333333333334\n"
     ]
    },
    {
     "data": {
      "text/plain": [
       "0"
      ]
     },
     "execution_count": 78,
     "metadata": {},
     "output_type": "execute_result"
    }
   ],
   "source": [
    "y_pred = model1.predict(x_test)\n",
    "evaluator(y_test, y_pred)"
   ]
  },
  {
   "cell_type": "markdown",
   "metadata": {
    "id": "e77b19e5"
   },
   "source": [
    "## Part 2 Error Correction Learning"
   ]
  },
  {
   "cell_type": "code",
   "execution_count": 79,
   "metadata": {
    "id": "ba3d28af"
   },
   "outputs": [],
   "source": [
    "class ErrorCorrectionLearning(object):\n",
    "    def __init__(self):\n",
    "        self.history = {}\n",
    "        self.history['train_error'] = []\n",
    "        self.history['train_acc'] = []\n",
    "        self.history['test_acc'] = []\n",
    "        \n",
    "    def f(self, x):\n",
    "        ####################################################################################################\n",
    "        # 4. enter code here to implement the activation function\n",
    "        fx=np.dot(self.W,x)+self.b\n",
    "        ####################################################################################################\n",
    "        return fx\n",
    "    \n",
    "    def train(self, x, y, x_test, y_test, learning_rate=0.1, n_iters=10, verbose=True):\n",
    "        n_train, input_size = x.shape\n",
    "        n_test = x_test.shape[0]\n",
    "        self.W = np.zeros(input_size)\n",
    "        self.b = np.zeros(1)\n",
    "\n",
    "        for i in range(n_iters):\n",
    "            error = 0.0\n",
    "            for xi, yi in zip(x, y):\n",
    "                # forward\n",
    "                ####################################################################################################\n",
    "                # 1. enter code here to calculate the output\n",
    "                actual=self.f(xi)\n",
    "                if actual >0:\n",
    "                    output=1\n",
    "                else:\n",
    "                    output=0\n",
    "                ####################################################################################################\n",
    "                \n",
    "                # backward\n",
    "                ####################################################################################################\n",
    "                # 2. enter code here to adjust the weights\n",
    "                err=yi-output\n",
    "                self.W+=learning_rate*err*xi\n",
    "                self.b+=learning_rate*err\n",
    "                ####################################################################################################\n",
    "\n",
    "\n",
    "                error += np.abs(err)\n",
    "                \n",
    "            self.history['train_error'].append(error)\n",
    "            train_acc = (self.predict(x) == y).sum() / n_train\n",
    "            test_acc = (self.predict(x_test) == y_test).sum() / n_test\n",
    "            self.history['train_acc'].append(train_acc)\n",
    "            self.history['test_acc'].append(test_acc)\n",
    "            if verbose:\n",
    "                print('epoch %d, train error %.4f, train acc %.4f, test acc %.4f' % \n",
    "                      (i + 1, error, train_acc, test_acc))\n",
    "\n",
    "    def predict(self, x):\n",
    "        ####################################################################################################\n",
    "        # 3. enter code here to complete the predict function\n",
    "        # TODO: use the trained weights to predict labels and return the predicted labels\n",
    "        y_pred=np.array([])\n",
    "        for xi in x:\n",
    "            activation=np.dot(self.W,xi)+self.b\n",
    "            if activation>=0:\n",
    "                yi=1\n",
    "            else:\n",
    "                yi=0\n",
    "            y_pred=np.append(y_pred,int(yi))\n",
    "        ####################################################################################################\n",
    "        return y_pred"
   ]
  },
  {
   "cell_type": "code",
   "execution_count": 80,
   "metadata": {
    "id": "f59bbea4"
   },
   "outputs": [
    {
     "name": "stdout",
     "output_type": "stream",
     "text": [
      "epoch 1, train error 14.0000, train acc 0.9375, test acc 0.9000\n",
      "epoch 2, train error 11.0000, train acc 0.9000, test acc 0.7500\n",
      "epoch 3, train error 7.0000, train acc 0.9125, test acc 0.8000\n",
      "epoch 4, train error 10.0000, train acc 0.8875, test acc 0.7500\n",
      "epoch 5, train error 5.0000, train acc 0.9625, test acc 0.8000\n",
      "epoch 6, train error 5.0000, train acc 0.9750, test acc 0.9000\n",
      "epoch 7, train error 4.0000, train acc 0.9750, test acc 0.9000\n",
      "epoch 8, train error 8.0000, train acc 0.9625, test acc 0.9000\n",
      "epoch 9, train error 4.0000, train acc 0.9375, test acc 0.8000\n",
      "epoch 10, train error 2.0000, train acc 0.9625, test acc 0.9000\n"
     ]
    }
   ],
   "source": [
    "model2 = ErrorCorrectionLearning()\n",
    "model2.train(x_train, y_train, x_test, y_test, learning_rate=0.01, n_iters=10, verbose=True)"
   ]
  },
  {
   "cell_type": "code",
   "execution_count": 81,
   "metadata": {
    "id": "1565fafa"
   },
   "outputs": [
    {
     "data": {
      "text/plain": [
       "(array([-0.00654307, -0.01740288,  0.06393074,  0.04996758]), array([-0.06]))"
      ]
     },
     "execution_count": 81,
     "metadata": {},
     "output_type": "execute_result"
    }
   ],
   "source": [
    "model2.W, model2.b"
   ]
  },
  {
   "cell_type": "code",
   "execution_count": 82,
   "metadata": {
    "id": "978f6bb4"
   },
   "outputs": [
    {
     "data": {
      "image/png": "[encoded data removed]",
      "text/plain": [
       "<Figure size 432x288 with 1 Axes>"
      ]
     },
     "metadata": {
      "needs_background": "light"
     },
     "output_type": "display_data"
    }
   ],
   "source": [
    "plt.plot(model2.history['train_acc'], label='train_acc')\n",
    "plt.plot(model2.history['test_acc'], label='test_acc')\n",
    "plt.legend()\n",
    "plt.show()"
   ]
  },
  {
   "cell_type": "code",
   "execution_count": 83,
   "metadata": {
    "id": "cbdb5794"
   },
   "outputs": [
    {
     "name": "stdout",
     "output_type": "stream",
     "text": [
      "The confusion matrix is:\n",
      "[[ 8  0]\n",
      " [ 2 10]]\n",
      "accuracy:0.9\n",
      "precision:1.0\n",
      "recall:0.8333333333333334\n"
     ]
    },
    {
     "data": {
      "text/plain": [
       "0"
      ]
     },
     "execution_count": 83,
     "metadata": {},
     "output_type": "execute_result"
    }
   ],
   "source": [
    "y_pred = model2.predict(x_test)\n",
    "evaluator(y_test, y_pred)"
   ]
  },
  {
   "cell_type": "code",
   "execution_count": null,
   "metadata": {
    "id": "f8e72d4a"
   },
   "outputs": [],
   "source": []
  }
 ],
 "metadata": {
  "accelerator": "GPU",
  "colab": {
   "collapsed_sections": [],
   "name": "A1.ipynb",
   "provenance": []
  },
  "kernelspec": {
   "display_name": "Python 3",
   "language": "python",
   "name": "python3"
  },
  "language_info": {
   "codemirror_mode": {
    "name": "ipython",
    "version": 3
   },
   "file_extension": ".py",
   "mimetype": "text/x-python",
   "name": "python",
   "nbconvert_exporter": "python",
   "pygments_lexer": "ipython3",
   "version": "3.7.0"
  }
 },
 "nbformat": 4,
 "nbformat_minor": 5
}
