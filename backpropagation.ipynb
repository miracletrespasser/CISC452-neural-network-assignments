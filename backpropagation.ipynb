{
  "nbformat": 4,
  "nbformat_minor": 5,
  "metadata": {
    "accelerator": "GPU",
    "colab": {
      "name": "A2.ipynb",
      "provenance": [],
      "collapsed_sections": []
    },
    "kernelspec": {
      "display_name": "Python 3",
      "language": "python",
      "name": "python3"
    },
    "language_info": {
      "codemirror_mode": {
        "name": "ipython",
        "version": 3
      },
      "file_extension": ".py",
      "mimetype": "text/x-python",
      "name": "python",
      "nbconvert_exporter": "python",
      "pygments_lexer": "ipython3",
      "version": "3.7.0"
    }
  },
  "cells": [
    {
      "cell_type": "markdown",
      "metadata": {
        "id": "cf798513"
      },
      "source": [
        "# CISC 452 Assignment 2 - Backpropagation (100 points)  \n",
        "\n",
        "Please put your name and student id\n",
        "\n",
        "    FirstName LastName, #12345678\n",
        "\n",
        "- The notebook file has clearly marked blocks where you are expected to write code. Do not write or modify any code outside of these blocks.\n",
        "- Do not add or delete cells from the notebook.\n",
        "- Run all cells, and do not clear out the outputs, before submitting. You will only get credit for code that has been run.\n",
        "- Make sure to run all the cells from beginning before the submission"
      ],
      "id": "cf798513"
    },
    {
      "cell_type": "markdown",
      "metadata": {
        "id": "VRLNrFDU3dKp"
      },
      "source": [
        "## [Part 1 (60 points)](#Part-1)  \n",
        "\n",
        "### Build Model1 (50 points)  \n",
        "Use Pytorch to implement a three-layer Neural Network (input layer - hidden layer - output layer) and update the weights with backpropagation  \n",
        "- 1. Implement forward and calculate the output (10 points)  \n",
        "- 2. Calculate errors and loss (10 points)  \n",
        "- 3. Update the weights with backpropagation (20 points)  \n",
        "- 4. Predict function (5 points)  \n",
        "- 5. Activation function (Sigmoid function) (5 points)  \n",
        "\n",
        "### Evaluate Model1 (10 points)  \n",
        "Use the predict function to predict the labels with the test dataset (5 points)  \n",
        "Evaluate the prediction results (5 points)   \n",
        "- Evaluation matrices include confusion matrix, accuracy, recall score, precision and F1 score\n",
        "\n",
        "## [Part 2 (40 points)](#Part-2)  \n",
        "\n",
        "Use another machine learning framework (**scikit-learn, Tensorflow and Pytorch**) to build MLP\n",
        "e.g. \n",
        "  1. https://scikit-learn.org/stable/modules/generated/sklearn.neural_network.MLPClassifier.html\n",
        "  2. https://www.tensorflow.org/api_docs/python/tf/keras/Sequential\n",
        "  3. https://pytorch.org/tutorials/beginner/examples_nn/polynomial_nn.html#sphx-glr-beginner-examples-nn-polynomial-nn-py\n",
        "  \n",
        "### Build Model2-1 (15 points)  \n",
        "Implement model 2-1 with the same hidden nodes and optimization function as the model in Part 1  \n",
        "Train and validate model. Use the best model on validation dataset to test on the test dataset  \n",
        "\n",
        "### Evaluate Model2-1 (5 points)\n",
        "Evaluate the prediction results (5 points)   \n",
        "- Evaluation matrices include confusion matrix, accuracy, recall score, precision and F1 score\n",
        "\n",
        "### Build Model2-2 (15 points)  \n",
        "Add one more hidden layer (2 hidden layers in total) to the model  \n",
        "Describe Model 2-2 (number of hidden nodes)  \n",
        "Train and validate model. Use the best model on validation dataset to test on the test dataset  \n",
        "\n",
        "### Evaluate Model2-2 (5 points)\n",
        "Evaluate the prediction results (5 points)   \n",
        "- Evaluation matrices include confusion matrix, accuracy, recall score, precision and F1 score"
      ],
      "id": "VRLNrFDU3dKp"
    },
    {
      "cell_type": "code",
      "metadata": {
        "id": "b7e6a263"
      },
      "source": [
        "# Donghao Wang 20119632\n",
        "import torch\n",
        "import matplotlib.pyplot as plt\n",
        "\n",
        "from torchvision.datasets import MNIST"
      ],
      "id": "b7e6a263",
      "execution_count": null,
      "outputs": []
    },
    {
      "cell_type": "code",
      "metadata": {
        "colab": {
          "base_uri": "https://localhost:8080/"
        },
        "id": "eKE_KANU7_sq",
        "outputId": "46281c70-2e12-48c3-ca56-e73d0a4bd72f"
      },
      "source": [
        "# make sure you are using GPU, or you can go to Edit - Notebook settings to select under the Hardware accelerator\n",
        "device = torch.device('cuda' if torch.cuda.is_available() else 'cpu')\n",
        "device"
      ],
      "id": "eKE_KANU7_sq",
      "execution_count": null,
      "outputs": [
        {
          "output_type": "execute_result",
          "data": {
            "text/plain": [
              "device(type='cuda')"
            ]
          },
          "metadata": {},
          "execution_count": 78
        }
      ]
    },
    {
      "cell_type": "code",
      "metadata": {
        "id": "9a5cbc46"
      },
      "source": [
        "# build the dataset (train, validation and test)\n",
        "\n",
        "def load_MNIST(n_val=10000, n_sample=1000, sample=False):\n",
        "    n_val = n_val\n",
        "    n_sample = n_sample\n",
        "    train = MNIST(root = '.', train = True, download = True)\n",
        "    test = MNIST(root = '.', train = False, download = True)\n",
        "    \n",
        "    # data preprocessing\n",
        "    x_train, x_test = train.data/255, test.data/255\n",
        "    x_train = x_train.reshape(x_train.shape[0], -1)\n",
        "    x_test = x_test.reshape(x_test.shape[0], -1)\n",
        "    y_train = torch.nn.functional.one_hot(train.targets)\n",
        "    y_test = torch.nn.functional.one_hot(test.targets)\n",
        "\n",
        "    data_dict = {}\n",
        "    if sample:\n",
        "        data_dict['x_train'] = x_train[:-n_val][:n_sample]\n",
        "        data_dict['y_train'] = y_train[:-n_val][:n_sample]\n",
        "        data_dict['x_val'] = x_train[-n_val:][:n_sample//10]\n",
        "        data_dict['y_val'] = y_train[-n_val:][:n_sample//10]\n",
        "        data_dict['x_test'] = x_test[:n_sample//10]\n",
        "        data_dict['y_test'] = y_test[:n_sample//10]\n",
        "    else:\n",
        "        data_dict['x_train'] = x_train[:-n_val]\n",
        "        data_dict['y_train'] = y_train[:-n_val]\n",
        "        data_dict['x_val'] = x_train[-n_val:]\n",
        "        data_dict['y_val'] = y_train[-n_val:]\n",
        "        data_dict['x_test'] = x_test\n",
        "        data_dict['y_test'] = y_test\n",
        "    return data_dict"
      ],
      "id": "9a5cbc46",
      "execution_count": null,
      "outputs": []
    },
    {
      "cell_type": "code",
      "metadata": {
        "colab": {
          "base_uri": "https://localhost:8080/"
        },
        "id": "Q5G-vmpD21Bj",
        "outputId": "100f1ff3-3b8c-495a-e985-8c0734952a06"
      },
      "source": [
        "# you can start with a small sample dataset by setting sample=True\n",
        "data_dict = load_MNIST(sample=False)\n",
        "print('Train data shape:', data_dict['x_train'].shape)\n",
        "print('Train labels shape:', data_dict['y_train'].shape)\n",
        "print('Validation data shape:', data_dict['x_val'].shape)\n",
        "print('Validation labels shape:', data_dict['y_val'].shape)\n",
        "print('Test data shape:', data_dict['x_test'].shape)\n",
        "print('Test labels shape:', data_dict['y_test'].shape)"
      ],
      "id": "Q5G-vmpD21Bj",
      "execution_count": null,
      "outputs": [
        {
          "output_type": "stream",
          "name": "stdout",
          "text": [
            "Train data shape: torch.Size([50000, 784])\n",
            "Train labels shape: torch.Size([50000, 10])\n",
            "Validation data shape: torch.Size([10000, 784])\n",
            "Validation labels shape: torch.Size([10000, 10])\n",
            "Test data shape: torch.Size([10000, 784])\n",
            "Test labels shape: torch.Size([10000, 10])\n"
          ]
        }
      ]
    },
    {
      "cell_type": "code",
      "metadata": {
        "colab": {
          "base_uri": "https://localhost:8080/"
        },
        "id": "32087af6",
        "outputId": "ab9a5c4c-0b5f-4892-b86f-9842ad93e070"
      },
      "source": [
        "# check the data distribution if you use a sample dataset to avoid imbanlance dataset\n",
        "for i in range(10):\n",
        "    print(torch.sum(torch.argmax(data_dict['y_test'], dim=1)==i))"
      ],
      "id": "32087af6",
      "execution_count": null,
      "outputs": [
        {
          "output_type": "stream",
          "name": "stdout",
          "text": [
            "tensor(980)\n",
            "tensor(1135)\n",
            "tensor(1032)\n",
            "tensor(1010)\n",
            "tensor(982)\n",
            "tensor(892)\n",
            "tensor(958)\n",
            "tensor(1028)\n",
            "tensor(974)\n",
            "tensor(1009)\n"
          ]
        }
      ]
    },
    {
      "cell_type": "code",
      "metadata": {
        "id": "TqIpxH__ldS5"
      },
      "source": [
        ""
      ],
      "id": "TqIpxH__ldS5",
      "execution_count": null,
      "outputs": []
    },
    {
      "cell_type": "code",
      "metadata": {
        "colab": {
          "base_uri": "https://localhost:8080/",
          "height": 281
        },
        "id": "1aa9f016",
        "scrolled": false,
        "outputId": "94584c7f-2c14-4bd8-b99a-09f8c5a9cef1"
      },
      "source": [
        "# plot an example\n",
        "plt.imshow(data_dict['x_train'][0].reshape(28, 28))\n",
        "plt.title(data_dict['y_train'][0].argmax().item())\n",
        "plt.show()"
      ],
      "id": "1aa9f016",
      "execution_count": null,
      "outputs": [
        {
          "output_type": "display_data",
          "data": {
            "image/png": "[encoded data removed]",
            "text/plain": [
              "<Figure size 432x288 with 1 Axes>"
            ]
          },
          "metadata": {
            "needs_background": "light"
          }
        }
      ]
    },
    {
      "cell_type": "code",
      "metadata": {
        "id": "6291c647"
      },
      "source": [
        "# TODO: use the predict function to predict the lables with the test dataset\n",
        "# TODO: evaluate the prediction results (accuracy, recall score, precision and F1 score)\n",
        "####################################################################################################\n",
        "# enter code here to calculate the hidden layer output and output layer output\n",
        "# Write a function to analyze the result\n",
        "import sklearn.metrics\n",
        "def evaluator(test_y, pred_y):\n",
        "    print(\"Confusion matrix:\")\n",
        "    print(sklearn.metrics.confusion_matrix(test_y,pred_y))\n",
        "    print(\"Accuracy:\")\n",
        "    print(sklearn.metrics.accuracy_score(test_y,pred_y))\n",
        "    print(\"Recall:\")\n",
        "    print(sklearn.metrics.recall_score(test_y,pred_y,average='macro'))\n",
        "    print(\"Precision:\")\n",
        "    print(sklearn.metrics.precision_score(test_y,pred_y,average='macro'))\n",
        "    print(\"F1 score:\")\n",
        "    print(sklearn.metrics.f1_score(test_y,pred_y,average='macro'))\n",
        "    return 0\n",
        "\n",
        "####################################################################################################"
      ],
      "id": "6291c647",
      "execution_count": null,
      "outputs": []
    },
    {
      "cell_type": "markdown",
      "metadata": {
        "id": "4e4a6b06"
      },
      "source": [
        "## Part 1"
      ],
      "id": "4e4a6b06"
    },
    {
      "cell_type": "code",
      "metadata": {
        "id": "a0d3fc2d"
      },
      "source": [
        "class NN(object):\n",
        "    def __init__(self, hidden_size, device, dtype=torch.float32):\n",
        "        self.hidden_size = hidden_size\n",
        "        self.device = device\n",
        "        self.dtype = dtype\n",
        "        self.history = {}\n",
        "        self.history['train_acc'], self.history['val_acc'], self.history['loss'] = [], [], []\n",
        "        \n",
        "    def sigmoid(self, x):\n",
        "        ####################################################################################################\n",
        "        # 5. enter code here to implement the activation function\n",
        "        return torch.sigmoid(x)\n",
        "        ####################################################################################################\n",
        "\n",
        "    def train(self, x, y, x_val, y_val, learning_rate=0.001, n_iters=100, batch_size=200, verbose=0):\n",
        "        n_train = x.shape[0]\n",
        "        n_val = x_val.shape[0]\n",
        "        input_size = x.shape[1]\n",
        "        num_classes = y.shape[1]\n",
        "        \n",
        "        self.params = {}\n",
        "        ####################################################################################################\n",
        "        # You can change the initialzation here if you want\n",
        "        self.W1 = torch.randn(input_size, self.hidden_size, dtype=self.dtype, device=self.device) * 0.01\n",
        "        self.b1 = torch.zeros(self.hidden_size, dtype=self.dtype, device=self.device)\n",
        "        self.W2 = torch.randn(self.hidden_size, num_classes, dtype=self.dtype, device=self.device) * 0.01\n",
        "        self.b2 = torch.zeros(num_classes, dtype=self.dtype, device=self.device)\n",
        "        ####################################################################################################\n",
        "\n",
        "\n",
        "        # TODO: train the weights with the input data and labels\n",
        "        for i in range(n_iters):\n",
        "            loss = 0\n",
        "            data = getBatch(x, y, batch_size)\n",
        "            for x_batch, y_batch in data:\n",
        "                # forward\n",
        "                ####################################################################################################\n",
        "                # 1. enter code here to calculate the hidden layer output and output layer output\n",
        "                hidden=self.sigmoid(torch.matmul(x_batch,self.W1)+self.b1)\n",
        "                ####################################################################################################\n",
        "                output=self.sigmoid(torch.matmul(hidden,self.W2)+self.b2)\n",
        "                ####################################################################################################\n",
        "                # 2. enter code here to calculate the hidden layer error, output layer error and loss\n",
        "                output_error = y_batch-output\n",
        "                hidden_error = torch.matmul(output_error,torch.transpose(self.W2,0,1))#outputerror*hidden output weight\n",
        "                # loss\n",
        "                loss =torch.mean(torch.square(output_error))\n",
        "                ####################################################################################################\n",
        "\n",
        "               \n",
        "\n",
        "                # backward\n",
        "                ####################################################################################################\n",
        "                # 3. enter code here to update the weights with the errors\n",
        "                #calculate theta*x first\n",
        "                #update weights\n",
        "                self.W1+=learning_rate*torch.matmul(torch.transpose(x_batch,0,1),hidden_error)\n",
        "                self.W2+=learning_rate*torch.matmul(torch.transpose(hidden,0,1),output_error)\n",
        "                #update the bias using the weight change of each individual neruon\n",
        "                self.b1+=learning_rate*torch.mean(torch.transpose(torch.matmul(torch.transpose(x_batch,0,1),hidden_error),0,1),1)\n",
        "                self.b2+=learning_rate*torch.mean(torch.transpose(torch.matmul(torch.transpose(hidden,0,1),output_error),0,1),1)\n",
        "                ####################################################################################################\n",
        "\n",
        "            # calculate the accuracy\n",
        "            y_pred = self.predict(x)\n",
        "            train_acc = torch.sum(torch.argmax(y, dim=1) == torch.argmax(y_pred, dim=1)) / n_train\n",
        "            self.history['train_acc'].append(train_acc)\n",
        "            self.history['loss'].append(loss)\n",
        "            \n",
        "            y_pred = self.predict(x_val)\n",
        "            val_acc = torch.sum(torch.argmax(y_val, dim=1) == torch.argmax(y_pred, dim=1)) / n_val\n",
        "            self.history['val_acc'].append(val_acc)\n",
        "            if verbose:\n",
        "                print('epoch %d, loss %.4f, train acc %.3f, validation acc %.3f'\n",
        "                  % (i + 1, loss, train_acc, val_acc))\n",
        "                \n",
        "    def predict(self, x):\n",
        "        ####################################################################################################\n",
        "        # 4. enter code here to complete the predict function\n",
        "        # TODO: use the trained weights to predict labels and return the predicted labels\n",
        "        hidden_output=self.sigmoid(torch.matmul(x,self.W1)+self.b1)\n",
        "        y_pred=self.sigmoid(torch.matmul(hidden_output,self.W2)+self.b2)\n",
        "        ####################################################################################################\n",
        "        return y_pred\n",
        "\n",
        "def getBatch(x, y, batch_size):\n",
        "    n_epoch = x.shape[0] // batch_size\n",
        "    for i in range(n_epoch):\n",
        "        x_batch = x[i * batch_size : (i+1) * batch_size]\n",
        "        y_batch = y[i * batch_size : (i+1) * batch_size]\n",
        "        yield x_batch, y_batch\n",
        "    x_batch = x[(i+1) * batch_size:]\n",
        "    y_batch = y[(i+1) * batch_size:]    \n",
        "    yield x_batch, y_batch"
      ],
      "id": "a0d3fc2d",
      "execution_count": null,
      "outputs": []
    },
    {
      "cell_type": "code",
      "metadata": {
        "colab": {
          "base_uri": "https://localhost:8080/"
        },
        "id": "74e9819c",
        "outputId": "2481dde3-245e-41c7-88fa-8b25f7664219"
      },
      "source": [
        "####################################################################################################\n",
        "# enter code here to tune the parameters\n",
        "# TODO: set your desired hidden size, learning rate, number of iterations and batch size\n",
        "hidden_size = 300\n",
        "model = NN(hidden_size, device)\n",
        "model.train(data_dict['x_train'].to(device),\n",
        "            data_dict['y_train'].to(device),\n",
        "            data_dict['x_val'].to(device),\n",
        "            data_dict['y_val'].to(device), \n",
        "            learning_rate=0.01,\n",
        "            n_iters=10,\n",
        "            batch_size=32,\n",
        "            verbose=1)\n",
        "####################################################################################################"
      ],
      "id": "74e9819c",
      "execution_count": null,
      "outputs": [
        {
          "output_type": "stream",
          "name": "stdout",
          "text": [
            "epoch 1, loss 0.0211, train acc 0.905, validation acc 0.917\n",
            "epoch 2, loss 0.0209, train acc 0.910, validation acc 0.919\n",
            "epoch 3, loss 0.0201, train acc 0.914, validation acc 0.921\n",
            "epoch 4, loss 0.0200, train acc 0.916, validation acc 0.921\n",
            "epoch 5, loss 0.0199, train acc 0.917, validation acc 0.921\n",
            "epoch 6, loss 0.0209, train acc 0.917, validation acc 0.921\n",
            "epoch 7, loss 0.0211, train acc 0.918, validation acc 0.922\n",
            "epoch 8, loss 0.0208, train acc 0.918, validation acc 0.923\n",
            "epoch 9, loss 0.0205, train acc 0.919, validation acc 0.924\n",
            "epoch 10, loss 0.0218, train acc 0.920, validation acc 0.925\n"
          ]
        }
      ]
    },
    {
      "cell_type": "code",
      "metadata": {
        "colab": {
          "base_uri": "https://localhost:8080/",
          "height": 265
        },
        "id": "bebd0600",
        "outputId": "03b52eda-abb4-48ce-9045-c44c39f46215"
      },
      "source": [
        "plt.plot(model.history['train_acc'], label='train_acc')\n",
        "plt.plot(model.history['val_acc'], label='val_acc')\n",
        "plt.legend()\n",
        "plt.show()"
      ],
      "id": "bebd0600",
      "execution_count": null,
      "outputs": [
        {
          "output_type": "display_data",
          "data": {
            "image/png": "[encoded data removed]",
            "text/plain": [
              "<Figure size 432x288 with 1 Axes>"
            ]
          },
          "metadata": {
            "needs_background": "light"
          }
        }
      ]
    },
    {
      "cell_type": "code",
      "metadata": {
        "colab": {
          "base_uri": "https://localhost:8080/"
        },
        "id": "UQciuqY96_6Z",
        "outputId": "3fa60f6e-75bc-43fc-9f13-814d6163e851"
      },
      "source": [
        "y_pred = model.predict(data_dict['x_test'].to(device))\n",
        "evaluator(data_dict['y_test'].argmax(dim=1), torch.argmax(y_pred, dim=1).cpu())"
      ],
      "id": "UQciuqY96_6Z",
      "execution_count": null,
      "outputs": [
        {
          "output_type": "stream",
          "name": "stdout",
          "text": [
            "Confusion matrix:\n",
            "[[ 970    0    1    2    0    1    3    1    2    0]\n",
            " [   0 1117    1    3    0    1    4    2    7    0]\n",
            " [  20    6  921   13    9    2   10   15   32    4]\n",
            " [   5    0   14  927    1   23    0   17   14    9]\n",
            " [   1    3    6    2  898    0    6    4   10   52]\n",
            " [  17    3    2   46   11  750    6   13   34   10]\n",
            " [  20    3    2    1    5   19  901    2    5    0]\n",
            " [   3   11   13    5    2    2    0  967    2   23]\n",
            " [  18   15    6   20   12   38    8   18  826   13]\n",
            " [  17    8    0    7   20   10    0   32    4  911]]\n",
            "Accuracy:\n",
            "0.9188\n",
            "Recall:\n",
            "0.9171553926753436\n",
            "Precision:\n",
            "0.9181807788477878\n",
            "F1 score:\n",
            "0.9171957001011691\n"
          ]
        },
        {
          "output_type": "execute_result",
          "data": {
            "text/plain": [
              "0"
            ]
          },
          "metadata": {},
          "execution_count": 87
        }
      ]
    },
    {
      "cell_type": "code",
      "metadata": {
        "id": "bhkkGjWwxlLJ"
      },
      "source": [
        ""
      ],
      "id": "bhkkGjWwxlLJ",
      "execution_count": null,
      "outputs": []
    },
    {
      "cell_type": "markdown",
      "metadata": {
        "id": "QG_rb7uJ4XDL"
      },
      "source": [
        "## Part 2"
      ],
      "id": "QG_rb7uJ4XDL"
    },
    {
      "cell_type": "markdown",
      "metadata": {
        "id": "cddf7208"
      },
      "source": [
        "### Model2-1"
      ],
      "id": "cddf7208"
    },
    {
      "cell_type": "code",
      "metadata": {
        "colab": {
          "base_uri": "https://localhost:8080/"
        },
        "id": "O7eSORsXldTC",
        "outputId": "3cb0ae62-90b6-45be-8cf6-9ad1e1f14b46"
      },
      "source": [
        "####################################################################################################\n",
        "# enter code here to implement evaluate Model2-1\n",
        "from sklearn.neural_network import MLPClassifier\n",
        "Model2_1=MLPClassifier(solver='adam',hidden_layer_sizes=(300,),\n",
        "                       activation='logistic',learning_rate_init=0.01,max_iter=10,random_state=1,verbose=1,batch_size=32)\n",
        "Model2_1.fit(data_dict['x_train'],data_dict['y_train'])\n",
        "prediction_y=Model2_1.predict(data_dict['x_test'])\n",
        "pred_y=torch.from_numpy(prediction_y)\n",
        "evaluator(data_dict['y_test'].argmax(dim=1), torch.argmax(pred_y, dim=1).cpu())\n",
        "####################################################################################################"
      ],
      "id": "O7eSORsXldTC",
      "execution_count": null,
      "outputs": [
        {
          "output_type": "stream",
          "name": "stdout",
          "text": [
            "Iteration 1, loss = 0.48239409\n",
            "Iteration 2, loss = 0.27721598\n",
            "Iteration 3, loss = 0.25425254\n",
            "Iteration 4, loss = 0.24254317\n",
            "Iteration 5, loss = 0.24325100\n",
            "Iteration 6, loss = 0.23678251\n",
            "Iteration 7, loss = 0.23435578\n",
            "Iteration 8, loss = 0.22958227\n",
            "Iteration 9, loss = 0.22618977\n",
            "Iteration 10, loss = 0.23058582\n"
          ]
        },
        {
          "output_type": "stream",
          "name": "stderr",
          "text": [
            "/usr/local/lib/python3.7/dist-packages/sklearn/neural_network/_multilayer_perceptron.py:571: ConvergenceWarning: Stochastic Optimizer: Maximum iterations (10) reached and the optimization hasn't converged yet.\n",
            "  % self.max_iter, ConvergenceWarning)\n"
          ]
        },
        {
          "output_type": "stream",
          "name": "stdout",
          "text": [
            "Confusion matrix:\n",
            "[[ 976    0    0    0    1    1    1    1    0    0]\n",
            " [  18 1106    1    2    0    0    1    1    6    0]\n",
            " [  65    0  944    2    0    0    5    5   11    0]\n",
            " [  52    0    1  948    0    3    0    1    5    0]\n",
            " [  16    0    0    0  957    0    1    0    1    7]\n",
            " [  30    0    0    5    0  848    5    2    2    0]\n",
            " [  20    3    0    1    3   10  919    0    2    0]\n",
            " [  34    2    2    5    1    1    0  980    1    2]\n",
            " [  32    0    1    1    5   10    3    1  919    2]\n",
            " [  57    2    0    3   15    0    0    7    5  920]]\n",
            "Accuracy:\n",
            "0.9517\n",
            "Recall:\n",
            "0.9516847911083304\n",
            "Precision:\n",
            "0.9583840199237846\n",
            "F1 score:\n",
            "0.9528789369264347\n"
          ]
        },
        {
          "output_type": "execute_result",
          "data": {
            "text/plain": [
              "0"
            ]
          },
          "metadata": {},
          "execution_count": 90
        }
      ]
    },
    {
      "cell_type": "markdown",
      "metadata": {
        "id": "zdpaGnx2ldTC"
      },
      "source": [
        "### Model2-2"
      ],
      "id": "zdpaGnx2ldTC"
    },
    {
      "cell_type": "code",
      "metadata": {
        "colab": {
          "base_uri": "https://localhost:8080/"
        },
        "id": "vnXVlvVdldTD",
        "outputId": "9325dc24-90c3-411f-9620-723b9c7c2650"
      },
      "source": [
        "####################################################################################################\n",
        "# enter code here to implement evaluate Model2-2\n",
        "# 2 hidden layer, with 300 neurons and 10 neurons, and 1 output layer with 10 neurons\n",
        "Model2_1=MLPClassifier(solver='adam',hidden_layer_sizes=(300,10,),\n",
        "                       activation='logistic',learning_rate_init=0.01,max_iter=10,random_state=1,verbose=1,batch_size=32)\n",
        "Model2_1.fit(data_dict['x_train'],data_dict['y_train'])\n",
        "prediction_y=Model2_1.predict(data_dict['x_test'])\n",
        "pred_y=torch.from_numpy(prediction_y)\n",
        "evaluator(data_dict['y_test'].argmax(dim=1), torch.argmax(pred_y, dim=1).cpu())\n",
        "####################################################################################################"
      ],
      "id": "vnXVlvVdldTD",
      "execution_count": null,
      "outputs": [
        {
          "output_type": "stream",
          "name": "stdout",
          "text": [
            "Iteration 1, loss = 2.00732481\n",
            "Iteration 2, loss = 0.61086592\n",
            "Iteration 3, loss = 0.46951035\n",
            "Iteration 4, loss = 0.42810494\n",
            "Iteration 5, loss = 0.40681089\n",
            "Iteration 6, loss = 0.38454249\n",
            "Iteration 7, loss = 0.38016944\n",
            "Iteration 8, loss = 0.36225175\n",
            "Iteration 9, loss = 0.37587302\n",
            "Iteration 10, loss = 0.37235148\n"
          ]
        },
        {
          "output_type": "stream",
          "name": "stderr",
          "text": [
            "/usr/local/lib/python3.7/dist-packages/sklearn/neural_network/_multilayer_perceptron.py:571: ConvergenceWarning: Stochastic Optimizer: Maximum iterations (10) reached and the optimization hasn't converged yet.\n",
            "  % self.max_iter, ConvergenceWarning)\n"
          ]
        },
        {
          "output_type": "stream",
          "name": "stdout",
          "text": [
            "Confusion matrix:\n",
            "[[ 963    0    2    3    0    0    6    1    4    1]\n",
            " [   4 1119    2    1    1    2    1    1    4    0]\n",
            " [  20    7  983    3    1    0    3    7    8    0]\n",
            " [  17    0   13  953    0    4    0    5   17    1]\n",
            " [  19    0    2    1  938    0    8    1    2   11]\n",
            " [  29    3    0   28    2  805    6    0   13    6]\n",
            " [  13    3    4    0    7    2  926    0    3    0]\n",
            " [  16    6    4    4    5    0    0  990    0    3]\n",
            " [  20    0    6    3    3    6    2    3  928    3]\n",
            " [  34    4    0    4   16    3    0   23   14  911]]\n",
            "Accuracy:\n",
            "0.9516\n",
            "Recall:\n",
            "0.950757803503317\n",
            "Precision:\n",
            "0.9532939491685728\n",
            "F1 score:\n",
            "0.9512239335538071\n"
          ]
        },
        {
          "output_type": "execute_result",
          "data": {
            "text/plain": [
              "0"
            ]
          },
          "metadata": {},
          "execution_count": 89
        }
      ]
    }
  ]
}