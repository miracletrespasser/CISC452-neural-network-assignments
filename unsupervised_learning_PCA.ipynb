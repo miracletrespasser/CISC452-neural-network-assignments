{
 "cells": [
  {
   "cell_type": "markdown",
   "metadata": {
    "id": "cf798513"
   },
   "source": [
    "# CISC 452 Assignment 3 - Unsupervised Learning (100 points)  \n",
    "\n",
    "Please put your name and student id\n",
    "\n",
    "    FirstName LastName, #12345678\n",
    "\n",
    "- The notebook file has clearly marked blocks where you are expected to write code. Do not write or modify any code outside of these blocks.\n",
    "- Do not add or delete cells from the notebook.\n",
    "- Run all cells, and do not clear out the outputs, before submitting. You will only get credit for code that has been run.\n",
    "- Make sure to run all the cells from beginning before the submission\n",
    "- Mark will be deducted based on late policy (-10% per day after due date until the end date after which no assignments will be accepted)"
   ]
  },
  {
   "cell_type": "code",
   "execution_count": 16,
   "metadata": {
    "id": "9Ihb8GvW2Yqh"
   },
   "outputs": [],
   "source": [
    "#Donghao Wang 20119632"
   ]
  },
  {
   "cell_type": "markdown",
   "metadata": {
    "id": "VRLNrFDU3dKp"
   },
   "source": [
    "## [Part 1 Simple Competitive Learning (50 points)](#Part-1-Simple-Competitive-Learning)  \n",
    "\n",
    "Build a **Kohonen Network** and use **Maxnet** at the output layer to find the node with the highest activation.  \n",
    "\n",
    "### Build Model (30 points)  \n",
    "Kohonen Network (20 points)  \n",
    "Maxnet (10 points)  \n",
    "\n",
    "### Evaluate Model (20 points)  \n",
    "Use the Kohonen Network to predict the lables with the train and test datasets (10 points)  \n",
    "Evaluate the prediction results (10 points)  \n",
    "- Evaluation matrics include confusion matrix and accuracy\n",
    "\n",
    "## [Part 2 Principle Component Analysis (50 points)](#Part-2-Principle-Component-Analysis)\n",
    "\n",
    "Implement a **PCA Network** (not PCA) to reduce the dimension of the Iris dataset from 4 to 3.  \n",
    "Use the Kohonen Network in Part 1 to train and test on the new dataset.  \n",
    "\n",
    "### Build Model (30 points)  \n",
    "Build PCA Network (20 points)  \n",
    "Train the PCA model and obtain the new datasets with reduced dimension (10 points)  \n",
    "\n",
    "### Evaluate Model (20 points)  \n",
    "Use the Kohonen Network to predict the lables with the new train and test datasets (10 points)  \n",
    "Evaluate the prediction results (10 points)  \n",
    "- Evaluation matrics include confusion matrix and accuracy"
   ]
  },
  {
   "cell_type": "code",
   "execution_count": 17,
   "metadata": {
    "id": "b7e6a263"
   },
   "outputs": [],
   "source": [
    "import numpy as np\n",
    "import matplotlib.pyplot as plt\n",
    "from sklearn.model_selection import train_test_split\n",
    "from sklearn.datasets import load_iris"
   ]
  },
  {
   "cell_type": "code",
   "execution_count": 18,
   "metadata": {
    "colab": {
     "base_uri": "https://localhost:8080/"
    },
    "id": "3a19bd78",
    "outputId": "95f9ad6a-ceff-402a-86a4-6eea99c69aef"
   },
   "outputs": [
    {
     "data": {
      "text/plain": [
       "(['sepal length (cm)',\n",
       "  'sepal width (cm)',\n",
       "  'petal length (cm)',\n",
       "  'petal width (cm)'],\n",
       " array(['setosa', 'versicolor', 'virginica'], dtype='<U10'))"
      ]
     },
     "execution_count": 18,
     "metadata": {},
     "output_type": "execute_result"
    }
   ],
   "source": [
    "data = load_iris()\n",
    "x = data.data\n",
    "x = (x - x.mean(axis=0)) / x.std(axis=0)\n",
    "y = data.target\n",
    "data.feature_names, data.target_names"
   ]
  },
  {
   "cell_type": "code",
   "execution_count": 19,
   "metadata": {
    "colab": {
     "base_uri": "https://localhost:8080/"
    },
    "id": "06c93a78",
    "outputId": "89aea2dd-9fe0-4b85-948c-53c13f4e61fa"
   },
   "outputs": [
    {
     "data": {
      "text/plain": [
       "((120, 4), (30, 4), (120,), (30,))"
      ]
     },
     "execution_count": 19,
     "metadata": {},
     "output_type": "execute_result"
    }
   ],
   "source": [
    "x_train, x_test, y_train, y_test = train_test_split(x, y, test_size=0.2, random_state=3)\n",
    "x_train.shape, x_test.shape, y_train.shape, y_test.shape"
   ]
  },
  {
   "cell_type": "code",
   "execution_count": 20,
   "metadata": {
    "id": "d236745e"
   },
   "outputs": [],
   "source": [
    "def evaluator(y_test, y_pred):\n",
    "    ####################################################################################################\n",
    "    # enter code here to implement the evaluation matrices including confusion matrix and accuracy\n",
    "    # You can only use Numpy here\n",
    "    cell1,cell2,cell3,cell4,cell5,cell6,cell7,cell8,cell9=0,0,0,0,0,0,0,0,0\n",
    "    for yt,yp in zip(y_test,y_pred):\n",
    "        if yt==0 and yp==0 :\n",
    "            cell1+=1\n",
    "        if yt==0 and yp==1:\n",
    "            cell2+=1\n",
    "        if yt==0 and yp==2:\n",
    "            cell3+=1\n",
    "        if yt==1 and yp==0 :\n",
    "            cell4+=1\n",
    "        if yt==1 and yp==1:\n",
    "            cell5+=1\n",
    "        if yt==1 and yp==2:\n",
    "            cell6+=1\n",
    "        if yt==2 and yp==0 :\n",
    "            cell7+=1\n",
    "        if yt==2 and yp==1:\n",
    "            cell8+=1\n",
    "        if yt==2 and yp==2:\n",
    "            cell9+=1\n",
    "    confusion_matrix=np.array(([cell1,cell2,cell3],[cell4,cell5,cell6],[cell7,cell8,cell9]))\n",
    "    sum=cell1+cell2+cell3+cell4+cell5+cell6+cell7+cell8+cell9\n",
    "    Class_0_accuracy=(cell1+cell5+cell6+cell8+cell9)/sum\n",
    "    Class_1_accuracy=(cell5+cell1+cell7+cell3+cell9)/sum\n",
    "    Class_2_accuracy=(cell9+cell1+cell2+cell4+cell5)/sum\n",
    "    print('The confusion matrix is:')\n",
    "    print(confusion_matrix)\n",
    "    print('Class 0 accuracy:'+str(Class_0_accuracy))\n",
    "    print('Class 1 accuracy:'+str(Class_1_accuracy))\n",
    "    print('Class 2 accuracy:'+str(Class_2_accuracy))\n",
    "    return 0\n",
    "\n",
    "    ####################################################################################################"
   ]
  },
  {
   "cell_type": "code",
   "execution_count": 35,
   "metadata": {
    "colab": {
     "base_uri": "https://localhost:8080/"
    },
    "id": "8cacb4f0",
    "outputId": "6012f238-d41c-4057-91b1-c47a7885c499"
   },
   "outputs": [
    {
     "name": "stdout",
     "output_type": "stream",
     "text": [
      "The confusion matrix is:\n",
      "[[40  0  0]\n",
      " [ 0 32  8]\n",
      " [ 0 14 26]]\n",
      "Class 0 accuracy:1.0\n",
      "Class 1 accuracy:0.8166666666666667\n",
      "Class 2 accuracy:0.8166666666666667\n",
      "The confusion matrix is:\n",
      "[[10  0  0]\n",
      " [ 0  7  3]\n",
      " [ 0  3  7]]\n",
      "Class 0 accuracy:1.0\n",
      "Class 1 accuracy:0.8\n",
      "Class 2 accuracy:0.8\n"
     ]
    },
    {
     "data": {
      "text/plain": [
       "0"
      ]
     },
     "execution_count": 35,
     "metadata": {},
     "output_type": "execute_result"
    }
   ],
   "source": [
    "# build a baseline model with K-Means\n",
    "from sklearn.cluster import KMeans\n",
    "km = KMeans(n_clusters=3) #n_clusters - the number of clusters\n",
    "km.fit(x_train)\n",
    "y_pred = km.predict(x_train)\n",
    "evaluator(y_train, y_pred)\n",
    "y_pred = km.predict(x_test)\n",
    "evaluator(y_test, y_pred)\n",
    "# there are often times that the confusion matrix of this model doesn't show correctly\n",
    "#should be labeling the cluser wrong in some special cases, \n",
    "#like the centroid of 0 in this case turns out to be centroid of 1 in the actual value"
   ]
  },
  {
   "cell_type": "markdown",
   "metadata": {
    "id": "4e4a6b06"
   },
   "source": [
    "## Part 1 Simple Competitive Learning"
   ]
  },
  {
   "cell_type": "code",
   "execution_count": 22,
   "metadata": {
    "id": "29d82a53"
   },
   "outputs": [],
   "source": [
    "####################################################################################################\n",
    "# enter code here to build the Kohonen Network with Maxnet\n",
    "class Kohonen(object):\n",
    "    def __init__(self,initial,iteration):\n",
    "        self.initial=initial #centroids and their coordinate, shape(3,4)\n",
    "        self.iteration=iteration #integer\n",
    "        self.history=[]\n",
    "    def euclidean(self,item1,item2): #first layer to hidden layer activation function\n",
    "        sum=0\n",
    "        for i in zip(item1,item2):\n",
    "          sum+=np.square(i[0]-i[1])\n",
    "        return np.sqrt(sum)\n",
    "    #train the initial weights\n",
    "    def train(self , x,y, learning_rate=0.5):\n",
    "        num_elements=x.shape[0]\n",
    "        for j in range(self.iteration):\n",
    "          #loop over all the elements in x\n",
    "          d_w=[0.1 for i in range(x.shape[1])]\n",
    "          for i in range(num_elements):\n",
    "            #adjustment to the learning rate\n",
    "            minimal_distance =10000\n",
    "            for k in range(len(self.initial)):# get the winning node in maxnet\n",
    "              distance = self.euclidean(self.initial[k],x[i])#first layer calculation\n",
    "              if distance < minimal_distance:\n",
    "                minimal_distance = distance\n",
    "                winning_node_index = k\n",
    "            winning_node = self.initial[winning_node_index]\n",
    "            #update weight change\n",
    "            for a in range(len(d_w)):\n",
    "              d_w[a] = learning_rate * (x[i][a] - winning_node[a]) \n",
    "               \n",
    "\n",
    "            # update weights\n",
    "            self.initial[winning_node_index] = np.add(winning_node, d_w)\n",
    "          print(\"Iteration done:\"+str(j+1))\n",
    "          print(\"Centroids: \"+str(self.initial))\n",
    "          acc = (self.predict(x) == y).sum()/num_elements\n",
    "          self.history.append(acc)\n",
    "          print(\"Accuracy:\"+str(acc))\n",
    "        return self.initial\n",
    "    def predict(self,x):\n",
    "        elements_num=x.shape[0]\n",
    "        y_pred=np.zeros(x.shape[0])\n",
    "        for i in range(elements_num):\n",
    "          minimal_distance=10000\n",
    "          for k in range(len(self.initial)):# get the winning node in maxnet\n",
    "            distance = self.euclidean(self.initial[k],x[i])#first layer calculation\n",
    "            if distance < minimal_distance:\n",
    "              minimal_distance = distance\n",
    "              winning_node_index = k\n",
    "              y_pred[i]=k \n",
    "        return y_pred\n",
    "    \n",
    "\n",
    "\n",
    "####################################################################################################"
   ]
  },
  {
   "cell_type": "code",
   "execution_count": 23,
   "metadata": {
    "colab": {
     "base_uri": "https://localhost:8080/"
    },
    "id": "8773264b",
    "outputId": "392574d0-6f1d-4102-b6fa-2af0322ca23a"
   },
   "outputs": [
    {
     "name": "stdout",
     "output_type": "stream",
     "text": [
      "Iteration done:1\n",
      "Centroids: [array([-0.99377882,  0.82708883, -1.3139642 , -1.30273419]), array([ 0.21277024, -0.52016821,  0.7508418 ,  0.83154969]), array([0.684312  , 0.39488866, 0.9094604 , 1.36632955])]\n",
      "Accuracy:0.82\n",
      "Iteration done:2\n",
      "Centroids: [array([-0.99377882,  0.82708883, -1.3139642 , -1.30273419]), array([ 0.2127703 , -0.5201684 ,  0.75084178,  0.83154966]), array([0.684312  , 0.39488866, 0.9094604 , 1.36632955])]\n",
      "Accuracy:0.82\n",
      "Iteration done:3\n",
      "Centroids: [array([-0.99377882,  0.82708883, -1.3139642 , -1.30273419]), array([ 0.2127703 , -0.5201684 ,  0.75084178,  0.83154966]), array([0.684312  , 0.39488866, 0.9094604 , 1.36632955])]\n",
      "Accuracy:0.82\n",
      "Iteration done:4\n",
      "Centroids: [array([-0.99377882,  0.82708883, -1.3139642 , -1.30273419]), array([ 0.2127703 , -0.5201684 ,  0.75084178,  0.83154966]), array([0.684312  , 0.39488866, 0.9094604 , 1.36632955])]\n",
      "Accuracy:0.82\n",
      "Iteration done:5\n",
      "Centroids: [array([-0.99377882,  0.82708883, -1.3139642 , -1.30273419]), array([ 0.2127703 , -0.5201684 ,  0.75084178,  0.83154966]), array([0.684312  , 0.39488866, 0.9094604 , 1.36632955])]\n",
      "Accuracy:0.82\n",
      "Iteration done:6\n",
      "Centroids: [array([-0.99377882,  0.82708883, -1.3139642 , -1.30273419]), array([ 0.2127703 , -0.5201684 ,  0.75084178,  0.83154966]), array([0.684312  , 0.39488866, 0.9094604 , 1.36632955])]\n",
      "Accuracy:0.82\n",
      "Iteration done:7\n",
      "Centroids: [array([-0.99377882,  0.82708883, -1.3139642 , -1.30273419]), array([ 0.2127703 , -0.5201684 ,  0.75084178,  0.83154966]), array([0.684312  , 0.39488866, 0.9094604 , 1.36632955])]\n",
      "Accuracy:0.82\n",
      "Iteration done:8\n",
      "Centroids: [array([-0.99377882,  0.82708883, -1.3139642 , -1.30273419]), array([ 0.2127703 , -0.5201684 ,  0.75084178,  0.83154966]), array([0.684312  , 0.39488866, 0.9094604 , 1.36632955])]\n",
      "Accuracy:0.82\n",
      "Iteration done:9\n",
      "Centroids: [array([-0.99377882,  0.82708883, -1.3139642 , -1.30273419]), array([ 0.2127703 , -0.5201684 ,  0.75084178,  0.83154966]), array([0.684312  , 0.39488866, 0.9094604 , 1.36632955])]\n",
      "Accuracy:0.82\n",
      "Iteration done:10\n",
      "Centroids: [array([-0.99377882,  0.82708883, -1.3139642 , -1.30273419]), array([ 0.2127703 , -0.5201684 ,  0.75084178,  0.83154966]), array([0.684312  , 0.39488866, 0.9094604 , 1.36632955])]\n",
      "Accuracy:0.82\n"
     ]
    },
    {
     "data": {
      "text/plain": [
       "[array([-0.99377882,  0.82708883, -1.3139642 , -1.30273419]),\n",
       " array([ 0.2127703 , -0.5201684 ,  0.75084178,  0.83154966]),\n",
       " array([0.684312  , 0.39488866, 0.9094604 , 1.36632955])]"
      ]
     },
     "execution_count": 23,
     "metadata": {},
     "output_type": "execute_result"
    }
   ],
   "source": [
    "####################################################################################################\n",
    "# enter code here to train and test the Kohonen Network\n",
    "input=[[-1, -0, -1,-1 ],\n",
    "    [0, 0, 0, 0],\n",
    "    [0, 0, 1, 2]]\n",
    "model=Kohonen(input,10)\n",
    "model.train(x,y)\n",
    "\n",
    "####################################################################################################"
   ]
  },
  {
   "cell_type": "code",
   "execution_count": 24,
   "metadata": {
    "colab": {
     "base_uri": "https://localhost:8080/",
     "height": 265
    },
    "id": "1817eec4",
    "outputId": "53a31fbf-44c6-443a-e4a7-5fbcfdc36a07"
   },
   "outputs": [
    {
     "data": {
      "image/png": "[encoded data removed]",
      "text/plain": [
       "<Figure size 432x288 with 1 Axes>"
      ]
     },
     "metadata": {
      "needs_background": "light"
     },
     "output_type": "display_data"
    }
   ],
   "source": [
    "plt.plot(model.history, label='Accuracy')\n",
    "plt.legend()\n",
    "plt.show()"
   ]
  },
  {
   "cell_type": "code",
   "execution_count": 25,
   "metadata": {
    "colab": {
     "base_uri": "https://localhost:8080/"
    },
    "id": "7yXbmiRJj06v",
    "outputId": "79288668-1db2-4aa4-8323-7887f525c952"
   },
   "outputs": [
    {
     "name": "stdout",
     "output_type": "stream",
     "text": [
      "The confusion matrix is:\n",
      "[[50  0  0]\n",
      " [ 0 44 21]\n",
      " [ 0  6 29]]\n",
      "Class 0 accuracy:1.0\n",
      "Class 1 accuracy:0.82\n",
      "Class 2 accuracy:0.82\n"
     ]
    },
    {
     "data": {
      "text/plain": [
       "0"
      ]
     },
     "execution_count": 25,
     "metadata": {},
     "output_type": "execute_result"
    }
   ],
   "source": [
    "evaluator(model.predict(x),y)"
   ]
  },
  {
   "cell_type": "markdown",
   "metadata": {
    "id": "dc90cf0e"
   },
   "source": [
    "## Part 2 Principle Component Analysis"
   ]
  },
  {
   "cell_type": "code",
   "execution_count": 26,
   "metadata": {
    "id": "396825d9"
   },
   "outputs": [],
   "source": [
    "####################################################################################################\n",
    "# enter code here to build the PCA model\n",
    "class PCA(object):\n",
    "    def __init__(self,iteration):\n",
    "      #initialize with some random value\n",
    "      self.w=np.array([[0.25,0.25,0.25,0.25],[0.25,0.25,0.25,0.25],[0.25,0.25,0.25,0.25]])\n",
    "      self.iteration=iteration\n",
    "    def train(self,x,learning_rate=0.0001):\n",
    "      #normalization\n",
    "      mean_value=np.mean(x,axis=0)\n",
    "      normalized_data=x-mean_value\n",
    "      for iter in range(self.iteration):\n",
    "        for n in range(normalized_data.shape[0]):\n",
    "          #initialize y\n",
    "          y=[0 for h in range(3)]\n",
    "          #calculate output\n",
    "          for j in range(3):\n",
    "            residual=0\n",
    "            y[j]=np.dot(normalized_data[n],self.w[j])\n",
    "            for k in range(j):\n",
    "              residual+=sum(np.dot(y[j],self.w[k]))\n",
    "            #update weights according to output\n",
    "            for i in range(len(self.w[0])):\n",
    "              self.w[j][i] += learning_rate*y[j]*(normalized_data[n][i]-residual)\n",
    "      return 0\n",
    "    #trim the data\n",
    "    def predict(self,x):\n",
    "      sum_weights=self.w.sum(axis=0)\n",
    "      max=0\n",
    "      column_to_be_cut=0\n",
    "      for i in range(len(sum_weights)):\n",
    "        if sum_weights[i]>max:\n",
    "          max=sum_weights[i]\n",
    "          column_to_be_cut=i\n",
    "      edited_array=x.copy()\n",
    "      edited_array=np.delete(edited_array,2,1)\n",
    "      print(\"Cut off column:\",column_to_be_cut)\n",
    "      return edited_array\n",
    "\n",
    "####################################################################################################"
   ]
  },
  {
   "cell_type": "code",
   "execution_count": 27,
   "metadata": {
    "colab": {
     "base_uri": "https://localhost:8080/"
    },
    "id": "3e567f44",
    "outputId": "3138ff3e-7c66-45b1-d85e-07c7ac31b11a"
   },
   "outputs": [
    {
     "name": "stdout",
     "output_type": "stream",
     "text": [
      "Cut off column: 2\n",
      "Final weight is:\n",
      " [[ 1.81353731 -0.1716915   1.86288738  1.83878364]\n",
      " [-0.12612594 -0.716678   -0.07809588 -0.09101658]\n",
      " [-0.03187053 -0.52213269  0.00753344 -0.00308994]]\n"
     ]
    }
   ],
   "source": [
    "####################################################################################################\n",
    "# enter code here to train the PCA model and obtain the new train and test datasets\n",
    "pca=PCA(50)\n",
    "pca.train(x)\n",
    "#gengerate new dataset\n",
    "x_3=pca.predict(x)\n",
    "print('Final weight is:\\n', pca.w)\n",
    "####################################################################################################"
   ]
  },
  {
   "cell_type": "code",
   "execution_count": 28,
   "metadata": {
    "colab": {
     "base_uri": "https://localhost:8080/"
    },
    "id": "ab8d49b7",
    "outputId": "a6fcbc2e-71a8-4512-bf80-a131f97dac1a"
   },
   "outputs": [
    {
     "name": "stdout",
     "output_type": "stream",
     "text": [
      "Iteration done:1\n",
      "Centroids: [array([-0.99377882,  0.82708883, -1.30273419]), array([ 0.21278516, -0.52014781,  0.83157728]), array([0.68431226, 0.39488875, 1.36632944])]\n",
      "Accuracy:0.8133333333333334\n",
      "Iteration done:2\n",
      "Centroids: [array([-0.99377882,  0.82708883, -1.30273419]), array([ 0.21278519, -0.52014791,  0.83157726]), array([0.68431226, 0.39488875, 1.36632944])]\n",
      "Accuracy:0.8133333333333334\n",
      "Iteration done:3\n",
      "Centroids: [array([-0.99377882,  0.82708883, -1.30273419]), array([ 0.21278519, -0.52014791,  0.83157726]), array([0.68431226, 0.39488875, 1.36632944])]\n",
      "Accuracy:0.8133333333333334\n",
      "Iteration done:4\n",
      "Centroids: [array([-0.99377882,  0.82708883, -1.30273419]), array([ 0.21278519, -0.52014791,  0.83157726]), array([0.68431226, 0.39488875, 1.36632944])]\n",
      "Accuracy:0.8133333333333334\n",
      "Iteration done:5\n",
      "Centroids: [array([-0.99377882,  0.82708883, -1.30273419]), array([ 0.21278519, -0.52014791,  0.83157726]), array([0.68431226, 0.39488875, 1.36632944])]\n",
      "Accuracy:0.8133333333333334\n",
      "Iteration done:6\n",
      "Centroids: [array([-0.99377882,  0.82708883, -1.30273419]), array([ 0.21278519, -0.52014791,  0.83157726]), array([0.68431226, 0.39488875, 1.36632944])]\n",
      "Accuracy:0.8133333333333334\n",
      "Iteration done:7\n",
      "Centroids: [array([-0.99377882,  0.82708883, -1.30273419]), array([ 0.21278519, -0.52014791,  0.83157726]), array([0.68431226, 0.39488875, 1.36632944])]\n",
      "Accuracy:0.8133333333333334\n",
      "Iteration done:8\n",
      "Centroids: [array([-0.99377882,  0.82708883, -1.30273419]), array([ 0.21278519, -0.52014791,  0.83157726]), array([0.68431226, 0.39488875, 1.36632944])]\n",
      "Accuracy:0.8133333333333334\n",
      "Iteration done:9\n",
      "Centroids: [array([-0.99377882,  0.82708883, -1.30273419]), array([ 0.21278519, -0.52014791,  0.83157726]), array([0.68431226, 0.39488875, 1.36632944])]\n",
      "Accuracy:0.8133333333333334\n",
      "Iteration done:10\n",
      "Centroids: [array([-0.99377882,  0.82708883, -1.30273419]), array([ 0.21278519, -0.52014791,  0.83157726]), array([0.68431226, 0.39488875, 1.36632944])]\n",
      "Accuracy:0.8133333333333334\n"
     ]
    },
    {
     "data": {
      "text/plain": [
       "[array([-0.99377882,  0.82708883, -1.30273419]),\n",
       " array([ 0.21278519, -0.52014791,  0.83157726]),\n",
       " array([0.68431226, 0.39488875, 1.36632944])]"
      ]
     },
     "execution_count": 28,
     "metadata": {},
     "output_type": "execute_result"
    }
   ],
   "source": [
    "####################################################################################################\n",
    "# enter code here to train and test the Kohonen Network with the new datasets\n",
    "input=[[-1, -1, -1 ],\n",
    "    [1, 0, 0],\n",
    "    [0, 1, 2]]\n",
    "model1=Kohonen(input,10)\n",
    "model1.train(x_3,y)\n",
    "\n",
    "####################################################################################################"
   ]
  },
  {
   "cell_type": "code",
   "execution_count": 29,
   "metadata": {
    "colab": {
     "base_uri": "https://localhost:8080/"
    },
    "id": "7te-yvJaS5Da",
    "outputId": "f34886f3-03b9-47c5-867d-c1b16a707784"
   },
   "outputs": [
    {
     "name": "stdout",
     "output_type": "stream",
     "text": [
      "The confusion matrix is:\n",
      "[[50  0  0]\n",
      " [ 0 43 21]\n",
      " [ 0  7 29]]\n",
      "Class 0 accuracy:1.0\n",
      "Class 1 accuracy:0.8133333333333334\n",
      "Class 2 accuracy:0.8133333333333334\n"
     ]
    },
    {
     "data": {
      "text/plain": [
       "0"
      ]
     },
     "execution_count": 29,
     "metadata": {},
     "output_type": "execute_result"
    }
   ],
   "source": [
    "#with PCA\n",
    "evaluator(model1.predict(x_3),y)"
   ]
  },
  {
   "cell_type": "code",
   "execution_count": null,
   "metadata": {},
   "outputs": [],
   "source": []
  }
 ],
 "metadata": {
  "accelerator": "GPU",
  "colab": {
   "collapsed_sections": [],
   "name": "A3.ipynb",
   "provenance": []
  },
  "kernelspec": {
   "display_name": "Python 3",
   "language": "python",
   "name": "python3"
  },
  "language_info": {
   "codemirror_mode": {
    "name": "ipython",
    "version": 3
   },
   "file_extension": ".py",
   "mimetype": "text/x-python",
   "name": "python",
   "nbconvert_exporter": "python",
   "pygments_lexer": "ipython3",
   "version": "3.7.0"
  }
 },
 "nbformat": 4,
 "nbformat_minor": 5
}
